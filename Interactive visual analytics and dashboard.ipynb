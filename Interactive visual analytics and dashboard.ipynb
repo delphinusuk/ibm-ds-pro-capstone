{
 "cells": [
  {
   "cell_type": "code",
   "execution_count": 3,
   "metadata": {},
   "outputs": [],
   "source": [
    "#!pip3 install pandas dash"
   ]
  },
  {
   "cell_type": "code",
   "execution_count": 5,
   "metadata": {},
   "outputs": [],
   "source": [
    "#!pip install wget"
   ]
  },
  {
   "cell_type": "code",
   "execution_count": 7,
   "metadata": {},
   "outputs": [],
   "source": [
    "#!python -m wget \"https://cf-courses-data.s3.us.cloud-object-storage.appdomain.cloud/IBM-DS0321EN-SkillsNetwork/datasets/spacex_launch_dash.csv\""
   ]
  },
  {
   "cell_type": "code",
   "execution_count": 8,
   "metadata": {},
   "outputs": [],
   "source": [
    "# Import required libraries\n",
    "import pandas as pd\n",
    "import dash\n",
    "import dash_html_components as html\n",
    "import dash_core_components as dcc\n",
    "from dash.dependencies import Input, Output\n",
    "import plotly.express as px"
   ]
  },
  {
   "cell_type": "code",
   "execution_count": 9,
   "metadata": {},
   "outputs": [],
   "source": [
    "# Read the airline data into pandas dataframe\n",
    "spacex_df = pd.read_csv(\"spacex_launch_dash.csv\")\n",
    "max_payload = spacex_df['Payload Mass (kg)'].max()\n",
    "min_payload = spacex_df['Payload Mass (kg)'].min()"
   ]
  },
  {
   "cell_type": "code",
   "execution_count": 10,
   "metadata": {},
   "outputs": [],
   "source": [
    "# Calculate other useful data.\n",
    "payload_mark_values = range(0, 11000, 1000)\n",
    "payload_mark_dict = dict(zip(payload_mark_values, payload_mark_values))\n",
    "\n",
    "launch_sites = spacex_df['Launch Site'].unique().tolist()\n",
    "launch_site_options = [{'label': 'All Sites','value': 'ALL'}, *[{'label': site,'value': site} for site in launch_sites]]"
   ]
  },
  {
   "cell_type": "code",
   "execution_count": 11,
   "metadata": {},
   "outputs": [],
   "source": [
    "# Create a dash application\n",
    "app = dash.Dash(__name__)"
   ]
  },
  {
   "cell_type": "code",
   "execution_count": 14,
   "metadata": {},
   "outputs": [],
   "source": [
    "# Create an app layout\n",
    "app.layout = html.Div(\n",
    "    children=[\n",
    "        html.H1(\n",
    "            'SpaceX Launch Records Dashboard',\n",
    "            style={\n",
    "                'textAlign': 'center',\n",
    "                'color': '#503D36',\n",
    "                'font-size': 40,\n",
    "            }\n",
    "        ),\n",
    "\n",
    "        # TASK 1: Add a dropdown list to enable Launch Site selection\n",
    "        # The default select value is for ALL sites\n",
    "        # dcc.Dropdown(id='site-dropdown',...)\n",
    "        dcc.Dropdown(\n",
    "            id='site-dropdown',\n",
    "            options=launch_site_options,\n",
    "            value='ALL',\n",
    "            placeholder=\"Select a launch site here\",\n",
    "            searchable=True\n",
    "        ),\n",
    "        html.Br(),\n",
    "\n",
    "        # TASK 2: Add a pie chart to show the total successful launches count for all sites\n",
    "        # If a specific launch site was selected, show the Success vs. Failed counts for the site\n",
    "        html.Div(\n",
    "            dcc.Graph(\n",
    "                id='success-pie-chart'\n",
    "            )\n",
    "        ),\n",
    "        html.Br(),\n",
    "\n",
    "        # TASK 3: Add a slider to select payload range\n",
    "        html.P(\n",
    "            \"Payload range (Kg):\"\n",
    "        ),\n",
    "        dcc.RangeSlider(\n",
    "            id='payload-slider',\n",
    "            min=0,\n",
    "            max=10000,\n",
    "            step=1000,\n",
    "            value=[0,10000],\n",
    "            marks=payload_mark_dict\n",
    "        ),\n",
    "\n",
    "        # TASK 4: Add a scatter chart to show the correlation between payload and launch success\n",
    "        html.Div(\n",
    "            dcc.Graph(\n",
    "                id='success-payload-scatter-chart'\n",
    "            )\n",
    "        ),\n",
    "    ]\n",
    ")"
   ]
  },
  {
   "cell_type": "code",
   "execution_count": 15,
   "metadata": {},
   "outputs": [],
   "source": [
    "# TASK 2:\n",
    "# Add a callback function for `site-dropdown` as input, `success-pie-chart` as output\n",
    "# Function decorator to specify function input and output\n",
    "@app.callback(\n",
    "    Output(\n",
    "        component_id='success-pie-chart',\n",
    "        component_property='figure'\n",
    "    ),\n",
    "    Input(\n",
    "        component_id='site-dropdown',\n",
    "        component_property='value'\n",
    "    )\n",
    ")\n",
    "def get_pie_chart(selected_site):\n",
    "    if selected_site == 'ALL':\n",
    "        data = spacex_df[spacex_df['class'] == 1]\n",
    "        names = 'Launch Site'\n",
    "        title='Total successful launches by site'\n",
    "    else:\n",
    "        data = spacex_df[spacex_df['Launch Site'] == selected_site]\n",
    "        names = 'class'\n",
    "        title=f'Total succesful launches for site {selected_site}'\n",
    "    return px.pie(data, names=names, title=title)"
   ]
  },
  {
   "cell_type": "code",
   "execution_count": 16,
   "metadata": {},
   "outputs": [],
   "source": [
    "# TASK 4:\n",
    "# Add a callback function for `site-dropdown` and `payload-slider` as inputs, `success-payload-scatter-chart` as output\n",
    "@app.callback(\n",
    "    Output(\n",
    "        component_id='success-payload-scatter-chart',\n",
    "        component_property='figure'\n",
    "    ),\n",
    "    [\n",
    "        Input(\n",
    "            component_id='site-dropdown',\n",
    "            component_property='value'\n",
    "        ),\n",
    "        Input(\n",
    "            component_id=\"payload-slider\",\n",
    "            component_property=\"value\"\n",
    "        )\n",
    "    ]\n",
    ")\n",
    "def get_scatter_chart(selected_site, selected_payload_range):\n",
    "    low, high = selected_payload_range\n",
    "    payload_mask = (spacex_df['Payload Mass (kg)'] > low) & (spacex_df['Payload Mass (kg)'] < high)\n",
    "    if selected_site == 'ALL':\n",
    "        filtered_df = spacex_df[payload_mask]\n",
    "    else:\n",
    "        filtered_df = spacex_df[payload_mask]\n",
    "        filtered_df = filtered_df.loc[filtered_df['Launch Site'] == selected_site]\n",
    "    return px.scatter(\n",
    "            filtered_df,\n",
    "            x='Payload Mass (kg)',\n",
    "            y='class', \n",
    "            color='Booster Version',\n",
    "            hover_data=['Payload Mass (kg)']\n",
    "        )"
   ]
  },
  {
   "cell_type": "code",
   "execution_count": 18,
   "metadata": {},
   "outputs": [
    {
     "name": "stdout",
     "output_type": "stream",
     "text": [
      "Dash is running on http://127.0.0.1:8050/\n",
      "\n",
      " * Serving Flask app \"__main__\" (lazy loading)\n",
      " * Environment: production\n",
      "\u001b[31m   WARNING: This is a development server. Do not use it in a production deployment.\u001b[0m\n",
      "\u001b[2m   Use a production WSGI server instead.\u001b[0m\n",
      " * Debug mode: off\n"
     ]
    }
   ],
   "source": [
    "# Run the app\n",
    "# if __name__ == '__main__': # If file, but running from notebook, here.\n",
    "app.run_server(dev_tools_silence_routes_logging=True)"
   ]
  },
  {
   "cell_type": "code",
   "execution_count": null,
   "metadata": {},
   "outputs": [],
   "source": [
    "\"\"\"\n",
    "Which site has the largest successful launches?\n",
    "-> \n",
    "Which site has the highest launch success rate?\n",
    "-> \n",
    "Which payload range(s) has the highest launch success rate?\n",
    "-> \n",
    "Which payload range(s) has the lowest launch success rate?\n",
    "-> \n",
    "Which F9 Booster version (v1.0, v1.1, FT, B4, B5, etc.) has the highest launch success rate?\n",
    "-> \n",
    "\"\"\""
   ]
  }
 ],
 "metadata": {
  "interpreter": {
   "hash": "38ba9c35dd7031df4686ade42485cef4c774e853bb330496d5b79aa1b95d462b"
  },
  "kernelspec": {
   "display_name": "Python 3.8.5 64-bit ('base': conda)",
   "language": "python",
   "name": "python3"
  },
  "language_info": {
   "codemirror_mode": {
    "name": "ipython",
    "version": 3
   },
   "file_extension": ".py",
   "mimetype": "text/x-python",
   "name": "python",
   "nbconvert_exporter": "python",
   "pygments_lexer": "ipython3",
   "version": "3.8.5"
  },
  "orig_nbformat": 4
 },
 "nbformat": 4,
 "nbformat_minor": 2
}
